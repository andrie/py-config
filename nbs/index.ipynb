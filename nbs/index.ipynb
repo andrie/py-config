{
 "cells": [
  {
   "attachments": {},
   "cell_type": "markdown",
   "metadata": {},
   "source": [
    "# config \n",
    "\n",
    "> Configuration management for Python <img src='figures/logo.svg' align=\"right\" height=\"139\" /> \n"
   ]
  },
  {
   "attachments": {},
   "cell_type": "markdown",
   "metadata": {},
   "source": [
    "\n",
    "The `config` package makes it easy to manage environment specific\n",
    "configuration values. For example, you might want to use distinct values\n",
    "for development, testing, and production environments.\n"
   ]
  },
  {
   "attachments": {},
   "cell_type": "markdown",
   "metadata": {},
   "source": [
    "## Installation\n",
    "\n",
    "The package is not yet available on PyPI, but you can install it from GitHub:\n",
    "\n",
    "```sh\n",
    "pip install git+https://github.com/andrie/py-config\n",
    "```\n",
    "\n",
    "Tip: add this to your `requirements.txt` file:\n",
    "\n",
    "```sh\n",
    "py-config @ git+https://github.com/andrie/py-config\n",
    "```\n",
    "\n",
    "And then use `pip install -r requirements.txt` to install the package.\n"
   ]
  },
  {
   "attachments": {},
   "cell_type": "markdown",
   "metadata": {},
   "source": [
    "## How to use"
   ]
  },
  {
   "attachments": {},
   "cell_type": "markdown",
   "metadata": {},
   "source": [
    "Given this `config.yaml` file:\n",
    "\n",
    "``` yaml\n",
    "default:\n",
    "  trials: 5\n",
    "  dataset: \"data-sampled.csv\"\n",
    "  \n",
    "production:\n",
    "  trials: 30\n",
    "  dataset: \"data.csv\"\n",
    "```"
   ]
  },
  {
   "attachments": {},
   "cell_type": "markdown",
   "metadata": {},
   "source": [
    "You can read the config file:"
   ]
  },
  {
   "cell_type": "code",
   "execution_count": null,
   "metadata": {},
   "outputs": [],
   "source": [
    "import config.core as config"
   ]
  },
  {
   "cell_type": "code",
   "execution_count": null,
   "metadata": {},
   "outputs": [
    {
     "data": {
      "text/plain": [
       "5"
      ]
     },
     "execution_count": null,
     "metadata": {},
     "output_type": "execute_result"
    }
   ],
   "source": [
    "config.config_get('trials')"
   ]
  },
  {
   "cell_type": "code",
   "execution_count": null,
   "metadata": {},
   "outputs": [
    {
     "data": {
      "text/plain": [
       "30"
      ]
     },
     "execution_count": null,
     "metadata": {},
     "output_type": "execute_result"
    }
   ],
   "source": [
    "config.config_get('trials', 'production')"
   ]
  },
  {
   "cell_type": "code",
   "execution_count": null,
   "metadata": {},
   "outputs": [],
   "source": []
  }
 ],
 "metadata": {
  "kernelspec": {
   "display_name": "python3",
   "language": "python",
   "name": "python3"
  }
 },
 "nbformat": 4,
 "nbformat_minor": 4
}
