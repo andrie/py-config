{
 "cells": [
  {
   "attachments": {},
   "cell_type": "markdown",
   "metadata": {},
   "source": [
    "# core\n",
    "\n",
    "> Config package for python"
   ]
  },
  {
   "cell_type": "code",
   "execution_count": null,
   "metadata": {},
   "outputs": [],
   "source": [
    "#| default_exp core"
   ]
  },
  {
   "cell_type": "code",
   "execution_count": null,
   "metadata": {},
   "outputs": [],
   "source": [
    "#| hide\n",
    "from nbdev.showdoc import *"
   ]
  },
  {
   "cell_type": "code",
   "execution_count": null,
   "metadata": {},
   "outputs": [],
   "source": [
    "#| export\n",
    "\n",
    "import yaml\n",
    "import os\n",
    "import pathlib"
   ]
  },
  {
   "cell_type": "code",
   "execution_count": null,
   "metadata": {},
   "outputs": [],
   "source": [
    "#| exporti\n",
    "def get_env(\n",
    "        var:str, # The environment variable to get\n",
    "        default:str = \"default\" # The default value to return if the environment variable is not set\n",
    "    ):\n",
    "    \"Get a value from the environment variables.\"\n",
    "    return os.environ.get(var, \"default\")\n",
    "\n",
    "assert get_env('TEST') == 'default'\n",
    "os.environ['TEST'] = 'test'\n",
    "assert get_env('TEST') == 'test'\n",
    "\n"
   ]
  },
  {
   "cell_type": "code",
   "execution_count": null,
   "metadata": {},
   "outputs": [],
   "source": [
    "#| export\n",
    "def config_get(\n",
    "        value: str,\n",
    "        py_config_active:str = None,\n",
    "        file:str = 'config.yaml',\n",
    "        encoding:str = 'utf-8'\n",
    "    ):\n",
    "    \"Get a value from the config.yaml file.\"\n",
    "    if py_config_active is None:\n",
    "        py_config_active = get_env('R_CONFIG_ACTIVE', 'default')\n",
    "    \n",
    "    dir_path = os.getcwd()\n",
    "    file = pathlib.Path(dir_path, file)\n",
    "\n",
    "    with open(file, 'r') as stream:\n",
    "        conf = yaml.safe_load(stream)\n",
    "    return conf[py_config_active][value]\n",
    "\n"
   ]
  },
  {
   "cell_type": "code",
   "execution_count": null,
   "metadata": {},
   "outputs": [],
   "source": [
    "assert config_get('trials') == 5\n",
    "assert config_get('trials', 'production') == 30"
   ]
  },
  {
   "cell_type": "code",
   "execution_count": null,
   "metadata": {},
   "outputs": [],
   "source": [
    "#| hide\n",
    "import nbdev; nbdev.nbdev_export()"
   ]
  }
 ],
 "metadata": {
  "kernelspec": {
   "display_name": "python3",
   "language": "python",
   "name": "python3"
  }
 },
 "nbformat": 4,
 "nbformat_minor": 4
}
