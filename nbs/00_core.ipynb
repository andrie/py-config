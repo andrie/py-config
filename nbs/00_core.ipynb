{
 "cells": [
  {
   "attachments": {},
   "cell_type": "markdown",
   "metadata": {},
   "source": [
    "# core\n",
    "\n",
    "> Config package for python"
   ]
  },
  {
   "cell_type": "code",
   "execution_count": null,
   "metadata": {},
   "outputs": [],
   "source": [
    "#| default_exp core"
   ]
  },
  {
   "cell_type": "code",
   "execution_count": null,
   "metadata": {},
   "outputs": [],
   "source": [
    "#| hide\n",
    "from nbdev.showdoc import *"
   ]
  },
  {
   "cell_type": "code",
   "execution_count": null,
   "metadata": {},
   "outputs": [],
   "source": [
    "#| export\n",
    "\n",
    "import yaml\n",
    "import os\n",
    "import pathlib"
   ]
  },
  {
   "cell_type": "code",
   "execution_count": null,
   "metadata": {},
   "outputs": [],
   "source": [
    "#| exporti\n",
    "def get_env(\n",
    "        var:str, # The environment variable to get\n",
    "        default:str = \"default\" # The default value to return if the environment variable is not set\n",
    "    ):\n",
    "    \"Get a value from the environment variables.\"\n",
    "    return os.environ.get(var, \"default\")\n"
   ]
  },
  {
   "cell_type": "code",
   "execution_count": null,
   "metadata": {},
   "outputs": [],
   "source": [
    "\n",
    "assert get_env('TEST') == 'default'\n",
    "os.environ['TEST'] = 'test'\n",
    "assert get_env('TEST') == 'test'\n",
    "\n"
   ]
  },
  {
   "cell_type": "code",
   "execution_count": null,
   "metadata": {},
   "outputs": [
    {
     "data": {
      "text/plain": [
       "{'trials': 30, 'dataset': 'data.csv'}"
      ]
     },
     "execution_count": null,
     "metadata": {},
     "output_type": "execute_result"
    }
   ],
   "source": [
    "#| export\n",
    "def config_get(\n",
    "        value: str = None, # Name of value (None to read all values)\n",
    "        py_config_active:str = None, # Name of configuration to read from. Defaults to the value of the R_CONFIG_ACTIVE environment variable (\"default\" if the variable does not exist).\n",
    "        file:str = 'config.yaml', # Configuration file to read from (defaults to \"config.yml\"). If the file isn't found at the location specified then parent directories are searched for a file of the same name.\n",
    "        encoding:str = 'utf-8'\n",
    "    ):\n",
    "    \"Get a value from the `config.yaml` file.Read from the currently active configuration, retrieving either a single named value or all values as a list.\"\n",
    "    if py_config_active is None:\n",
    "        py_config_active = get_env('R_CONFIG_ACTIVE', 'default')\n",
    "    \n",
    "    dir_path = os.getcwd()\n",
    "    file = pathlib.Path(dir_path, file)\n",
    "\n",
    "    with open(file, 'r') as stream:\n",
    "        conf = yaml.safe_load(stream)\n",
    "    \n",
    "    if value is None:\n",
    "        return conf[py_config_active]\n",
    "    else:\n",
    "        return conf[py_config_active][value]\n"
   ]
  },
  {
   "cell_type": "code",
   "execution_count": null,
   "metadata": {},
   "outputs": [
    {
     "data": {
      "text/plain": [
       "{'trials': 30, 'dataset': 'data.csv'}"
      ]
     },
     "execution_count": null,
     "metadata": {},
     "output_type": "execute_result"
    }
   ],
   "source": [
    "assert config_get('trials') == 5\n",
    "assert config_get('trials', 'production') == 30\n",
    "\n",
    "\n",
    "config_get(py_config_active=\"production\")"
   ]
  },
  {
   "cell_type": "code",
   "execution_count": null,
   "metadata": {},
   "outputs": [],
   "source": [
    "#| hide\n",
    "import nbdev; nbdev.nbdev_export()"
   ]
  }
 ],
 "metadata": {
  "kernelspec": {
   "display_name": "python3",
   "language": "python",
   "name": "python3"
  }
 },
 "nbformat": 4,
 "nbformat_minor": 4
}
